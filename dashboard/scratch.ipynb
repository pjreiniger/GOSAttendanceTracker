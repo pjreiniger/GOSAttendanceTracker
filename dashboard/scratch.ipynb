{
 "cells": [
  {
   "cell_type": "code",
   "execution_count": null,
   "id": "bae3e0bd-3636-4d4f-ba62-7a4f8a12b043",
   "metadata": {},
   "outputs": [],
   "source": [
    "# This is a jupyter call that allows us to edit scripts and have them automatically reloaded into the notebook\n",
    "%load_ext autoreload\n",
    "%autoreload 2\n",
    "\n",
    "import sys\n",
    "import os\n",
    "import logging\n",
    "    \n",
    "# print(os.getcwd())\n",
    "# print(__file__)\n",
    "os.chdir(r\"C:\\Users\\PJ\\Desktop\\loginSystem\")\n",
    "\n",
    "# Import common things\n",
    "import pandas as pd\n",
    "import plotly.express as px\n",
    "import datetime\n",
    "\n",
    "# Tell pandas that we want to see ALL the data\n",
    "pd.set_option(\"display.max_columns\", None)\n",
    "pd.set_option(\"display.max_rows\", None)\n",
    "\n",
    "# Tell the log to show us debug and higher\n",
    "logger = logging.getLogger()\n",
    "logger.setLevel(logging.DEBUG)\n",
    "\n",
    "from dashboard.utils import get_gos_user_data, get_preseason_meeting_days\n",
    "from dashboard.data_container import data_container"
   ]
  },
  {
   "cell_type": "code",
   "execution_count": null,
   "id": "ab678418-79b6-401a-a616-fb687f09e9bc",
   "metadata": {},
   "outputs": [],
   "source": [
    "data_container"
   ]
  },
  {
   "cell_type": "code",
   "execution_count": null,
   "id": "984f0037-ee47-4cf8-823f-a8f71bcc30e4",
   "metadata": {},
   "outputs": [],
   "source": [
    "\n",
    "user_data = get_gos_user_data(data_container, \"3325769\")\n",
    "# print(user_data)\n",
    "# user_data\n",
    "\n",
    "\n",
    "from dashboard.plotting import create_gos_attendance_plot, create_gos_hours_per_meeting_plot, create_gos_hours_sum_plot\n",
    "fig = create_gos_hours_sum_plot(user_data)\n",
    "fig"
   ]
  },
  {
   "cell_type": "code",
   "execution_count": null,
   "id": "d4bf0c24-99b3-46cf-9249-a9d39d61da28",
   "metadata": {},
   "outputs": [],
   "source": [
    "week_df = data_container.gos_attendance.groupby(data_container.gos_attendance['Date In'].dt.day_name()).count()\n",
    "week_df\n",
    "print(week_df)\n",
    "\n",
    "fig = px.pie(week_df, values=\"Date In\", names=week_df.index, title=\"Attendance / Day\")\n",
    "fig"
   ]
  },
  {
   "cell_type": "code",
   "execution_count": null,
   "id": "fdd89740-947b-4c14-84ff-8f08aeb10304",
   "metadata": {},
   "outputs": [],
   "source": [
    "def get_meeting_days(start_date, end_date):\n",
    "    mon = pd.date_range(start_date, end_date, freq='W-MON')\n",
    "    tue = pd.date_range(start_date, end_date, freq='W-TUE')\n",
    "    thr = pd.date_range(start_date, end_date, freq='W-THU')\n",
    "    sat = pd.date_range(start_date, end_date, freq='W-SAT')\n",
    "\n",
    "    return mon.union(tue).union(thr).union(sat)\n",
    "    \n",
    "\n",
    "start_date = datetime.datetime.strptime(\"2024-09-01\", \"%Y-%m-%d\")\n",
    "end_date = datetime.datetime.strptime(\"2025-01-05\", \"%Y-%m-%d\")\n",
    "\n",
    "print(get_meeting_days(start_date, end_date))\n"
   ]
  },
  {
   "cell_type": "code",
   "execution_count": null,
   "id": "f450bf5e-7075-4027-812d-613a640e8988",
   "metadata": {},
   "outputs": [],
   "source": [
    "\n",
    "\n",
    "grouped_data = data_container.gos_attendance.groupby(\"ID\").sum(numeric_only=True)\n",
    "grouped_data = grouped_data.sort_values(\"Hours Attended\")\n",
    "\n",
    "\n",
    "px.bar(grouped_data, y = \"Hours Attended\", x = [str(x) for x in grouped_data.index])"
   ]
  },
  {
   "cell_type": "code",
   "execution_count": null,
   "id": "c761b5e1-71fb-4e73-b19c-c556e1070f34",
   "metadata": {},
   "outputs": [],
   "source": []
  }
 ],
 "metadata": {
  "kernelspec": {
   "display_name": "Python 3 (ipykernel)",
   "language": "python",
   "name": "python3"
  },
  "language_info": {
   "codemirror_mode": {
    "name": "ipython",
    "version": 3
   },
   "file_extension": ".py",
   "mimetype": "text/x-python",
   "name": "python",
   "nbconvert_exporter": "python",
   "pygments_lexer": "ipython3",
   "version": "3.10.11"
  }
 },
 "nbformat": 4,
 "nbformat_minor": 5
}
